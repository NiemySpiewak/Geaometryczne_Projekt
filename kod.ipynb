{
 "cells": [
  {
   "cell_type": "markdown",
   "metadata": {},
   "source": [
    "## Struktury danych"
   ]
  },
  {
   "cell_type": "code",
   "execution_count": 12,
   "metadata": {
    "ExecuteTime": {
     "end_time": "2024-12-29T14:54:56.342245Z",
     "start_time": "2024-12-29T14:54:56.335617Z"
    }
   },
   "outputs": [],
   "source": [
    "class Point:\n",
    "    def __init__(self,x,y):\n",
    "        self.x=x\n",
    "        self.y=y"
   ]
  },
  {
   "cell_type": "code",
   "execution_count": 13,
   "metadata": {
    "ExecuteTime": {
     "end_time": "2024-12-29T15:05:55.849063Z",
     "start_time": "2024-12-29T15:05:55.841183Z"
    }
   },
   "outputs": [],
   "source": [
    "class Segment:\n",
    "    def __init__(self,p,q):\n",
    "        \n",
    "        if p.x < q.x:\n",
    "            left, right=p, q\n",
    "        else:\n",
    "            left, right=q, p\n",
    "                    \n",
    "        self.left=left\n",
    "        self.right=right\n",
    "        self.a=(right.y-left.y)/(right.x-left.x) # zakladam ze nie ma pionowych odcinkow\n",
    "        self.b=left.y-left.x*self.a\n",
    "        \n",
    "    def get_y(self,x):\n",
    "        return self.a*x+self.b\n"
   ]
  },
  {
   "cell_type": "code",
   "execution_count": 14,
   "metadata": {
    "ExecuteTime": {
     "end_time": "2024-12-29T14:54:56.429662Z",
     "start_time": "2024-12-29T14:54:56.407481Z"
    }
   },
   "outputs": [],
   "source": [
    "class Trapezoid:\n",
    "    def __init__(self, top, bottom, leftp, rightp):\n",
    "\n",
    "        self.top = top\n",
    "        self.bottom = bottom\n",
    "        self.leftp = leftp\n",
    "        self.rightp = rightp\n",
    "        \n",
    "        self.dnode = None # wskaznik do węzła w grafie wyszukiwań\n",
    "\n",
    "        # wskazniki do sasiadow\n",
    "        self.upper_left = None\n",
    "        self.lower_left = None\n",
    "        self.upper_right = None\n",
    "        self.lower_right = None\n"
   ]
  },
  {
   "cell_type": "code",
   "execution_count": 15,
   "metadata": {
    "ExecuteTime": {
     "end_time": "2024-12-29T14:54:56.737255Z",
     "start_time": "2024-12-29T14:54:56.721676Z"
    }
   },
   "outputs": [],
   "source": [
    "class DNode:\n",
    "    def __init__(self, node_type, label, left=None, right=None, above = None, below = None):\n",
    "        \"\"\"\n",
    "        node_type: Typ węzła ('x', 'y' lub 'leaf')\n",
    "        label: Punkt, odcinek lub trapez, zależnie od typu węzła\n",
    "        left: Lewy potomek\n",
    "        right: Prawy potomek\n",
    "        \"\"\"\n",
    "        self.node_type = node_type  # Typ węzła: 'x', 'y', 'leaf'\n",
    "        self.label = label          # Punkt, odcinek lub trapez\n",
    "        self.left = left            # Lewy potomek\n",
    "        self.right = right          # Prawy potomek\n",
    "        self.above = above\n",
    "        self.below = below\n",
    "        self.parents=[]  # lista rodziców potrzebna do zastępowania trapezów w grafie wyszukiwań na inne węzły\n",
    "        # potrzebne tylko w przypadku trapezów, ale nie chce mi się tego wydzielać do osobnej klasy\n",
    "        \n",
    "        def replace(self, new_node):\n",
    "            for parent in self.parents:\n",
    "                if parent.left == self:\n",
    "                    parent.left = new_node\n",
    "                elif parent.above == self:\n",
    "                    parent.above = new_node\n",
    "                elif parent.below == self:\n",
    "                    parent.below = new_node\n",
    "                else:\n",
    "                    parent.right = new_node\n",
    "                new_node.parents.append(parent)\n",
    "\n",
    "    \n",
    "class DTree:\n",
    "    def __init__(self):\n",
    "        self.root = None\n",
    "\n",
    "    def query(self, point,a=None):\n",
    "        \"\"\"\n",
    "        Znajduje trapez, który zawiera dany punkt.\n",
    "        point: (x, y) - współrzędne punktu\n",
    "        Zwraca: Trapez (etykieta liścia), który zawiera punkt\n",
    "        \"\"\"\n",
    "        current = self.root\n",
    "        while current:\n",
    "            if current.node_type == 'x':\n",
    "                # Testujemy po współrzędnej x\n",
    "                if point.x < current.label.x:\n",
    "                    current = current.left                    \n",
    "                else:\n",
    "                    current = current.right\n",
    "\n",
    "            elif current.node_type == 'y':\n",
    "                # Testujemy położenie względem odcinka\n",
    "                segment = current.label\n",
    "                y_on_line = segment.get_y(point.x)\n",
    "                if point.y > y_on_line:\n",
    "                    current = current.above\n",
    "                    \n",
    "                #NIE WIEM CZY TO JEST WGL POTRZEBNE?\n",
    "                # elif point.y==y_on_line and a is not None:   # potrzebne do wyznaczania strefy dla s_i, jeżeli początek dodawanego odcinka leży na sprawdzanej linii\n",
    "                #     # nie wiem czy to rozwiazuje problem  \n",
    "                #     if segment.a>a:\n",
    "                #         current = current.below\n",
    "                #     else:\n",
    "                #         current = current.above\n",
    "                else:\n",
    "                    current = current.below\n",
    "\n",
    "            elif current.node_type == 'leaf':\n",
    "                # Znaleziony trapez\n",
    "                return current.label\n",
    "\n",
    "        return None\n",
    "\n",
    "# Na wykładzie są podane dwa rodzaje tej struktury - musimy wytłumaczyć dlaczego akurat tą wybierami?"
   ]
  },
  {
   "cell_type": "code",
   "execution_count": 16,
   "metadata": {
    "ExecuteTime": {
     "end_time": "2024-12-29T14:54:56.772015Z",
     "start_time": "2024-12-29T14:54:56.761920Z"
    }
   },
   "outputs": [
    {
     "name": "stdout",
     "output_type": "stream",
     "text": [
      "Trapez zawierający punkt: 1 5\n"
     ]
    }
   ],
   "source": [
    "# Testy struktury DTree\n",
    "if __name__ == \"__main__\":\n",
    "    # Tworzenie przykładowych danych\n",
    "    p1 = Point(1, 1)\n",
    "    p2 = Point(5, 5)\n",
    "    p3 = Point(3, 2)\n",
    "    segment = Segment(p1, p2)\n",
    "\n",
    "    trapez1 = Trapezoid(None, None, p1, p2)\n",
    "    trapez2 = Trapezoid(None, None, p2, p3)\n",
    "\n",
    "    leaf1 = DNode('leaf', trapez1)\n",
    "    leaf2 = DNode('leaf', trapez2)\n",
    "    x_node = DNode('x', p2, leaf1, leaf2)\n",
    "\n",
    "    # Tworzenie drzewa\n",
    "    dtree = DTree()\n",
    "    dtree.root = x_node\n",
    "\n",
    "    # Test punktu\n",
    "    test_point = Point(4, 4)\n",
    "    result = dtree.query(test_point)\n",
    "    print(\"Trapez zawierający punkt:\", result.leftp.x, result.rightp.x)"
   ]
  },
  {
   "cell_type": "markdown",
   "metadata": {},
   "source": [
    "## Aplikacja do zadawania odcinków\n",
    "\n",
    "Aby wprowadzić odcinek należy nacisnąć lewym przyciskiem myszy w punkcie początkowym, przeciągnąć kursor i zwolnić przycisk w punkcie końcowym.\n",
    "Po wprowadzeniu wszystkich odcinków wystarczy zamknąć okno."
   ]
  },
  {
   "cell_type": "code",
   "execution_count": 17,
   "metadata": {
    "ExecuteTime": {
     "end_time": "2024-12-29T15:07:36.381007Z",
     "start_time": "2024-12-29T15:07:36.114591Z"
    }
   },
   "outputs": [],
   "source": [
    "%matplotlib tk\n",
    "\n",
    "import matplotlib.pyplot as plt\n",
    "\n",
    "class LineDrawer:\n",
    "    def __init__(self):\n",
    "        self.fig, self.ax = plt.subplots()\n",
    "        self.lines = []\n",
    "        self.current_line = None\n",
    "        self.start_point = None\n",
    "\n",
    "        # stałe wymiary okna (można zmienić)\n",
    "        self.ax.set_xlim(0, 10)\n",
    "        self.ax.set_ylim(0, 10)\n",
    "\n",
    "        self.cid_click = self.fig.canvas.mpl_connect('button_press_event', self.on_click)\n",
    "        self.cid_motion = self.fig.canvas.mpl_connect('motion_notify_event', self.on_motion)\n",
    "        self.cid_release = self.fig.canvas.mpl_connect('button_release_event', self.on_release)\n",
    "\n",
    "    def on_click(self, event):\n",
    "        if event.inaxes != self.ax:\n",
    "            return\n",
    "        self.start_point = (event.xdata, event.ydata)\n",
    "        self.ax.plot(event.xdata, event.ydata, 'ko') \n",
    "        self.current_line = self.ax.plot([event.xdata, event.xdata], [event.ydata, event.ydata], 'k-')[0]\n",
    "\n",
    "    def on_motion(self, event):\n",
    "        if self.current_line is None or event.inaxes != self.ax:\n",
    "            return\n",
    "        xdata, ydata = self.current_line.get_data()\n",
    "        xdata[1], ydata[1] = event.xdata, event.ydata\n",
    "        self.current_line.set_data(xdata, ydata)\n",
    "        self.fig.canvas.draw()\n",
    "\n",
    "    def on_release(self, event):\n",
    "        if self.current_line is None or event.inaxes != self.ax:\n",
    "            return\n",
    "        self.lines.append((self.start_point, (event.xdata, event.ydata)))\n",
    "        self.ax.plot(event.xdata, event.ydata, 'ko') \n",
    "        self.current_line = None\n",
    "        self.start_point = None\n",
    "        self.fig.canvas.draw()\n",
    "\n",
    "    def show(self):\n",
    "        plt.show()\n",
    "\n",
    "    def get_lines(self):\n",
    "        return self.lines\n",
    "\n",
    "drawer = LineDrawer()\n",
    "drawer.show()\n",
    "lines=drawer.get_lines()\n"
   ]
  },
  {
   "cell_type": "code",
   "execution_count": 18,
   "metadata": {
    "ExecuteTime": {
     "end_time": "2024-12-29T15:07:44.969001Z",
     "start_time": "2024-12-29T15:07:44.959972Z"
    }
   },
   "outputs": [
    {
     "name": "stdout",
     "output_type": "stream",
     "text": [
      "[((np.float64(2.4999999999999996), np.float64(7.705627705627706)), (np.float64(6.96774193548387), np.float64(7.034632034632035))), ((np.float64(3.9516129032258065), np.float64(4.329004329004329)), (np.float64(9.080645161290322), np.float64(4.588744588744589)))]\n"
     ]
    }
   ],
   "source": [
    "print(lines)"
   ]
  },
  {
   "cell_type": "code",
   "execution_count": 19,
   "metadata": {
    "ExecuteTime": {
     "end_time": "2024-12-29T15:07:46.979969Z",
     "start_time": "2024-12-29T15:07:46.971786Z"
    }
   },
   "outputs": [],
   "source": [
    "# zamiana reprezentacji odcinków\n",
    "for i in range(len(lines)):\n",
    "    p=Point(lines[i][0][0],lines[i][0][1])\n",
    "    q=Point(lines[i][1][0],lines[i][1][1])\n",
    "    segment=Segment(p,q)\n",
    "    lines[i]=segment"
   ]
  },
  {
   "cell_type": "markdown",
   "metadata": {},
   "source": [
    "## Konstrukcja mapy trapezowej T(S)"
   ]
  },
  {
   "cell_type": "markdown",
   "metadata": {},
   "source": [
    "wyznaczanie strefy dla $s_i$"
   ]
  },
  {
   "cell_type": "code",
   "execution_count": 5,
   "metadata": {
    "ExecuteTime": {
     "end_time": "2024-12-29T14:59:11.403722Z",
     "start_time": "2024-12-29T14:59:11.394315Z"
    }
   },
   "outputs": [],
   "source": [
    "def find_area(D,segment):\n",
    "    area=[]\n",
    "    p=segment.left\n",
    "    q=segment.right\n",
    "    delta=D.query(p)\n",
    "    area.append(delta)\n",
    "    while q.x>delta.rightp.x:\n",
    "        if delta.rightp.y>segment.get_y(delta.rightp.x):\n",
    "            area.append(delta.lower_right)\n",
    "            delta=delta.lower_right\n",
    "        else:\n",
    "            area.append(delta.upper_right)\n",
    "            delta=delta.upper_right\n",
    "    return area\n",
    "        \n",
    "\n"
   ]
  },
  {
   "cell_type": "code",
   "execution_count": 6,
   "metadata": {},
   "outputs": [],
   "source": [
    "def update_left(old_trap, left, top, bottom):\n",
    "    if left:\n",
    "        if old_trap.upper_left:\n",
    "            old_trap.upper_left.upper_right = left\n",
    "        if old_trap.lower_left:\n",
    "            old_trap.lower_left.lower_right = left\n",
    "    else:\n",
    "        if old_trap.upper_left:\n",
    "            old_trap.upper_left.upper_right = top\n",
    "        if old_trap.lower_left:\n",
    "            old_trap.lower_left.lower_right = bottom\n"
   ]
  },
  {
   "cell_type": "code",
   "execution_count": 7,
   "metadata": {},
   "outputs": [],
   "source": [
    "def update_right(old_trap, right, top, bottom):\n",
    "    if right:\n",
    "        if old_trap.upper_right:\n",
    "            old_trap.upper_right.upper_left = right\n",
    "        if old_trap.lower_right:\n",
    "            old_trap.lower_right.lower_left = right\n",
    "    else:\n",
    "        if old_trap.upper_right:\n",
    "            old_trap.upper_right.upper_left = top\n",
    "        if old_trap.lower_right:\n",
    "            old_trap.lower_right.lower_left = bottom"
   ]
  },
  {
   "cell_type": "code",
   "execution_count": 8,
   "metadata": {},
   "outputs": [],
   "source": [
    "def insert_into_one_trapezoid(dtree, segment, trapezoid):\n",
    "    # Funkcja która wstawia odcinek do jednego trapezu\n",
    "\n",
    "    if segment.left.x > trapezoid.leftp.x:\n",
    "        left_trapezoid = Trapezoid(trapezoid.top, trapezoid.bottom, trapezoid.leftp, segment.left)\n",
    "    else:\n",
    "        left_trapezoid = None\n",
    "    \n",
    "    if segment.right.x < trapezoid.rightp.x:\n",
    "        right_trapezoid = Trapezoid(trapezoid.top, trapezoid.bottom, segment.right, trapezoid.rightp)\n",
    "    else:\n",
    "        right_trapezoid = None\n",
    "        \n",
    "    top_trapezoid = Trapezoid(trapezoid.top, segment, trapezoid.leftp, trapezoid.rightp)\n",
    "    bottom_trapezoid = Trapezoid(segment, trapezoid.bottom, trapezoid.leftp, trapezoid.rightp)\n",
    "\n",
    "    \n",
    "    if left_trapezoid:\n",
    "        left_trapezoid.upper_right = top_trapezoid\n",
    "        left_trapezoid.lower_right = bottom_trapezoid\n",
    "        left_trapezoid.upper_left=trapezoid.upper_left\n",
    "        left_trapezoid.lower_left=trapezoid.lower_left\n",
    "        top_trapezoid.upper_left = left_trapezoid\n",
    "        bottom_trapezoid.lower_left = left_trapezoid\n",
    "        \n",
    "    else:\n",
    "        top_trapezoid.upper_left = trapezoid.upper_left\n",
    "        bottom_trapezoid.lower_left = trapezoid.lower_left\n",
    "        \n",
    "    update_left(trapezoid, left_trapezoid, top_trapezoid, bottom_trapezoid)\n",
    "\n",
    "    \n",
    "    if right_trapezoid:\n",
    "        right_trapezoid.upper_left = top_trapezoid\n",
    "        right_trapezoid.lower_left = bottom_trapezoid\n",
    "        right_trapezoid.upper_right=trapezoid.upper_right\n",
    "        right_trapezoid.lower_right=trapezoid.lower_right\n",
    "        top_trapezoid.upper_right = right_trapezoid\n",
    "        bottom_trapezoid.lower_right = right_trapezoid\n",
    "\n",
    "    else:\n",
    "        top_trapezoid.upper_right = trapezoid.upper_right\n",
    "        bottom_trapezoid.lower_right = trapezoid.lower_right\n",
    "\n",
    "    update_right(trapezoid, right_trapezoid, top_trapezoid, bottom_trapezoid)\n",
    "            \n",
    "\n",
    "    # zmiany w dtree\n",
    "    leftpoint=DNode('x',segment.left)\n",
    "    if left_trapezoid:\n",
    "        left=left_trapezoid\n",
    "    else:\n",
    "        if trapezoid.upper_left:\n",
    "            left=trapezoid.upper_left\n",
    "        else:\n",
    "            left=trapezoid.lower_left\n",
    "    leftpoint.left=DNode('leaf',left)\n",
    "    left.node.parents.append(leftpoint)\n",
    "    rightpoint=DNode('x',segment.right)\n",
    "    leftpoint.right=rightpoint\n",
    "    if right_trapezoid:\n",
    "        right=right_trapezoid\n",
    "    else:\n",
    "        if trapezoid.upper_right:\n",
    "            right=trapezoid.upper_right\n",
    "        else:\n",
    "            right=trapezoid.lower_right\n",
    "    rightpoint.right=DNode('leaf',right)\n",
    "    right.node.parents.append(rightpoint)\n",
    "    segment_node=DNode('y',segment)\n",
    "    rightpoint.left=segment_node\n",
    "    segment_node.above=DNode('leaf',top_trapezoid)\n",
    "    top_trapezoid.node.parents.append(segment_node)\n",
    "    segment_node.below=DNode('leaf',bottom_trapezoid)\n",
    "    bottom_trapezoid.node.parents.append(segment_node)\n",
    "    if dtree.root==trapezoid.node:\n",
    "        dtree.root=leftpoint\n",
    "    else:\n",
    "        trapezoid.node.replace(leftpoint)\n",
    "    \n",
    "    \n"
   ]
  },
  {
   "cell_type": "code",
   "execution_count": 9,
   "metadata": {
    "ExecuteTime": {
     "end_time": "2024-12-29T15:02:05.847126Z",
     "start_time": "2024-12-29T15:02:05.835143Z"
    }
   },
   "outputs": [],
   "source": [
    "def main():\n",
    "    outer_trapezoid=Trapezoid(Point(0,0),Point(10,10),Point(0,0),Point(10,0))\n",
    "    # Tworzenie drzewa\n",
    "    dtree = DTree()\n",
    "    # Tworzenie korzenia\n",
    "    x_node = DNode('leaf', outer_trapezoid)\n",
    "    dtree.root = x_node\n",
    "    # zbiór trapezów należących do mapy\n",
    "    T=set([outer_trapezoid])  # czy to jest potrzebne?\n",
    "    #lecimy po kolei po odcinkach, po kolei je analizujemy\n",
    "    for segment in lines:\n",
    "        \n",
    "        area=find_area(dtree,segment)\n",
    "        #patrzymy ile trapezow zajmuje\n",
    "        n = len( area )\n",
    "        if n ==1 :\n",
    "            #tutaj funkcja\n",
    "            insert_into_one_trapezoid(dtree,segment,area[0],T)\n",
    "            pass\n",
    "        elif n > 1 :\n",
    "            #tutaj funkcja\n",
    "            pass\n",
    "    return dtree\n",
    "        \n"
   ]
  },
  {
   "cell_type": "code",
   "execution_count": 22,
   "metadata": {},
   "outputs": [],
   "source": [
    "def randomizer(odcinki):\n",
    "    # Funkcja która przyjmuje odcinki i je losowo układa\n",
    "    pass"
   ]
  },
  {
   "cell_type": "code",
   "execution_count": null,
   "metadata": {},
   "outputs": [],
   "source": []
  }
 ],
 "metadata": {
  "kernelspec": {
   "display_name": "Python 3",
   "language": "python",
   "name": "python3"
  },
  "language_info": {
   "codemirror_mode": {
    "name": "ipython",
    "version": 3
   },
   "file_extension": ".py",
   "mimetype": "text/x-python",
   "name": "python",
   "nbconvert_exporter": "python",
   "pygments_lexer": "ipython3",
   "version": "3.13.1"
  }
 },
 "nbformat": 4,
 "nbformat_minor": 2
}
