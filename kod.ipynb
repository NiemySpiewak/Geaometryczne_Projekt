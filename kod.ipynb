{
 "cells": [
  {
   "cell_type": "markdown",
   "metadata": {},
   "source": [
    "## Struktury danych"
   ]
  },
  {
   "cell_type": "code",
   "execution_count": null,
   "metadata": {},
   "outputs": [],
   "source": [
    "class Point:\n",
    "    def __init__(self,x,y):\n",
    "        self.x=x\n",
    "        self.y=y\n",
    "        \n",
    "class Segment:\n",
    "    def __init__(self,p,q):\n",
    "        if p.x<q.x:\n",
    "            left,right=p,q\n",
    "        else:\n",
    "            left,right=q,p\n",
    "        \n",
    "        self.left=left\n",
    "        self.right=right\n",
    "        self.a=(right.y-left.y)/(right.x-left.x) # zakladam ze nie ma pionowych odcinkow\n",
    "        self.b=left.y-left.x*self.a\n",
    "        \n",
    "\n",
    "class Trapezoid:\n",
    "\n",
    "    def __init__(self, top, bottom, leftp, rightp):\n",
    "\n",
    "        self.top = top\n",
    "        self.bottom = bottom\n",
    "        self.leftp = leftp\n",
    "        self.rightp = rightp\n",
    "\n",
    "        # wskazniki do sasiadow\n",
    "        self.upper_left = None\n",
    "        self.lower_left = None\n",
    "        self.upper_right = None\n",
    "        self.lower_right = None\n"
   ]
  }
 ],
 "metadata": {
  "kernelspec": {
   "display_name": "Python 3",
   "language": "python",
   "name": "python3"
  },
  "language_info": {
   "name": "python",
   "version": "3.12.0"
  }
 },
 "nbformat": 4,
 "nbformat_minor": 2
}
