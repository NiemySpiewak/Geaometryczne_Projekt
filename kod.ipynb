{
 "cells": [
  {
   "cell_type": "markdown",
   "metadata": {},
   "source": [
    "## Struktury danych"
   ]
  },
  {
   "cell_type": "code",
   "metadata": {
    "ExecuteTime": {
     "end_time": "2024-12-27T23:19:45.943762Z",
     "start_time": "2024-12-27T23:19:45.936162Z"
    }
   },
   "source": [
    "class Point:\n",
    "    def __init__(self,x,y):\n",
    "        self.x=x\n",
    "        self.y=y"
   ],
   "outputs": [],
   "execution_count": 6
  },
  {
   "cell_type": "code",
   "metadata": {
    "ExecuteTime": {
     "end_time": "2024-12-27T23:19:46.436344Z",
     "start_time": "2024-12-27T23:19:46.412646Z"
    }
   },
   "source": [
    "class Segment:\n",
    "    def __init__(self,p,q):\n",
    "        \n",
    "        if p.x < q.x:\n",
    "            left, right=p, q\n",
    "        else:\n",
    "            left, right=q, p\n",
    "                    \n",
    "        self.left=left\n",
    "        self.right=right\n",
    "        self.a=(right.y-left.y)/(right.x-left.x) # zakladam ze nie ma pionowych odcinkow\n",
    "        self.b=left.y-left.x*self.a\n"
   ],
   "outputs": [],
   "execution_count": 7
  },
  {
   "cell_type": "code",
   "metadata": {
    "ExecuteTime": {
     "end_time": "2024-12-27T23:19:46.845704Z",
     "start_time": "2024-12-27T23:19:46.837816Z"
    }
   },
   "source": [
    "class Trapezoid:\n",
    "    def __init__(self, top, bottom, leftp, rightp):\n",
    "\n",
    "        self.top = top\n",
    "        self.bottom = bottom\n",
    "        self.leftp = leftp\n",
    "        self.rightp = rightp\n",
    "\n",
    "        # wskazniki do sasiadow\n",
    "        self.upper_left = None\n",
    "        self.lower_left = None\n",
    "        self.upper_right = None\n",
    "        self.lower_right = None\n"
   ],
   "outputs": [],
   "execution_count": 8
  },
  {
   "metadata": {
    "ExecuteTime": {
     "end_time": "2024-12-27T23:17:52.474146Z",
     "start_time": "2024-12-27T23:17:52.444963Z"
    }
   },
   "cell_type": "code",
   "source": [
    "class DNode:\n",
    "    def __init__(self, node_type, label, left=None, right=None):\n",
    "        \"\"\"\n",
    "        node_type: Typ węzła ('x', 'y' lub 'leaf')\n",
    "        label: Punkt, odcinek lub trapez, zależnie od typu węzła\n",
    "        left: Lewy potomek\n",
    "        right: Prawy potomek\n",
    "        \"\"\"\n",
    "        self.node_type = node_type  # Typ węzła: 'x', 'y', 'leaf'\n",
    "        self.label = label          # Punkt, odcinek lub trapez\n",
    "        self.left = left            # Lewy potomek\n",
    "        self.right = right          # Prawy potomek\n",
    "\n",
    "class DTree:\n",
    "    def __init__(self):\n",
    "        self.root = None\n",
    "\n",
    "    def query(self, point):\n",
    "        \"\"\"\n",
    "        Znajduje trapez, który zawiera dany punkt.\n",
    "        point: (x, y) - współrzędne punktu\n",
    "        Zwraca: Trapez (etykieta liścia), który zawiera punkt\n",
    "        \"\"\"\n",
    "        current = self.root\n",
    "        while current:\n",
    "            if current.node_type == 'x':\n",
    "                # Testujemy po współrzędnej x\n",
    "                if point.x < current.label.x:\n",
    "                    current = current.left\n",
    "                else:\n",
    "                    current = current.right\n",
    "\n",
    "            elif current.node_type == 'y':\n",
    "                # Testujemy położenie względem odcinka\n",
    "                segment = current.label\n",
    "                y_on_line = segment.a * point.x + segment.b\n",
    "                if point.y > y_on_line:\n",
    "                    current = current.left\n",
    "                else:\n",
    "                    current = current.right\n",
    "\n",
    "            elif current.node_type == 'leaf':\n",
    "                # Znaleziony trapez\n",
    "                return current.label\n",
    "\n",
    "        return None\n",
    "\n",
    "# Na wykładzie są podane dwa rodzaje tej struktury - musimy wytłumaczyć dlaczego akurat tą wybierami?"
   ],
   "outputs": [],
   "execution_count": 3
  },
  {
   "metadata": {
    "ExecuteTime": {
     "end_time": "2024-12-27T23:19:49.935208Z",
     "start_time": "2024-12-27T23:19:49.910801Z"
    }
   },
   "cell_type": "code",
   "source": [
    "# Testy struktury DTree\n",
    "if __name__ == \"__main__\":\n",
    "    # Tworzenie przykładowych danych\n",
    "    p1 = Point(1, 1)\n",
    "    p2 = Point(5, 5)\n",
    "    p3 = Point(3, 2)\n",
    "    segment = Segment(p1, p2)\n",
    "\n",
    "    trapez1 = Trapezoid(None, None, p1, p2)\n",
    "    trapez2 = Trapezoid(None, None, p2, p3)\n",
    "\n",
    "    leaf1 = DNode('leaf', trapez1)\n",
    "    leaf2 = DNode('leaf', trapez2)\n",
    "    x_node = DNode('x', p2, leaf1, leaf2)\n",
    "\n",
    "    # Tworzenie drzewa\n",
    "    dtree = DTree()\n",
    "    dtree.root = x_node\n",
    "\n",
    "    # Test punktu\n",
    "    test_point = Point(4, 4)\n",
    "    result = dtree.query(test_point)\n",
    "    print(\"Trapez zawierający punkt:\", result.leftp.x, result.rightp.x)"
   ],
   "outputs": [
    {
     "name": "stdout",
     "output_type": "stream",
     "text": [
      "Trapez zawierający punkt: 1 5\n"
     ]
    }
   ],
   "execution_count": 9
  },
  {
   "metadata": {},
   "cell_type": "code",
   "outputs": [],
   "execution_count": null,
   "source": ""
  }
 ],
 "metadata": {
  "kernelspec": {
   "display_name": "Python 3",
   "language": "python",
   "name": "python3"
  },
  "language_info": {
   "name": "python",
   "version": "3.12.0"
  }
 },
 "nbformat": 4,
 "nbformat_minor": 2
}
