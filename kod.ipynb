{
 "cells": [
  {
   "cell_type": "markdown",
   "metadata": {},
   "source": [
    "## Struktury danych"
   ]
  },
  {
   "cell_type": "code",
   "execution_count": 28,
   "metadata": {
    "ExecuteTime": {
     "end_time": "2024-12-27T23:19:45.943762Z",
     "start_time": "2024-12-27T23:19:45.936162Z"
    }
   },
   "outputs": [],
   "source": [
    "class Point:\n",
    "    def __init__(self,x,y):\n",
    "        self.x=x\n",
    "        self.y=y"
   ]
  },
  {
   "cell_type": "code",
   "execution_count": 29,
   "metadata": {
    "ExecuteTime": {
     "end_time": "2024-12-27T23:19:46.436344Z",
     "start_time": "2024-12-27T23:19:46.412646Z"
    }
   },
   "outputs": [],
   "source": [
    "class Segment:\n",
    "    def __init__(self,p,q):\n",
    "        \n",
    "        if p.x < q.x:\n",
    "            left, right=p, q\n",
    "        else:\n",
    "            left, right=q, p\n",
    "                    \n",
    "        self.left=left\n",
    "        self.right=right\n",
    "        self.a=(right.y-left.y)/(right.x-left.x) # zakladam ze nie ma pionowych odcinkow\n",
    "        self.b=left.y-left.x*self.a\n",
    "        \n",
    "    def get_y(self,x):\n",
    "        return self.a*x+self.b\n"
   ]
  },
  {
   "cell_type": "code",
   "execution_count": 30,
   "metadata": {
    "ExecuteTime": {
     "end_time": "2024-12-27T23:19:46.845704Z",
     "start_time": "2024-12-27T23:19:46.837816Z"
    }
   },
   "outputs": [],
   "source": [
    "class Trapezoid:\n",
    "    def __init__(self, top, bottom, leftp, rightp):\n",
    "\n",
    "        self.top = top\n",
    "        self.bottom = bottom\n",
    "        self.leftp = leftp\n",
    "        self.rightp = rightp\n",
    "\n",
    "        # wskazniki do sasiadow\n",
    "        self.upper_left = None\n",
    "        self.lower_left = None\n",
    "        self.upper_right = None\n",
    "        self.lower_right = None\n"
   ]
  },
  {
   "cell_type": "code",
   "execution_count": 31,
   "metadata": {
    "ExecuteTime": {
     "end_time": "2024-12-27T23:17:52.474146Z",
     "start_time": "2024-12-27T23:17:52.444963Z"
    }
   },
   "outputs": [],
   "source": [
    "class DNode:\n",
    "    def __init__(self, node_type, label, left=None, right=None):\n",
    "        \"\"\"\n",
    "        node_type: Typ węzła ('x', 'y' lub 'leaf')\n",
    "        label: Punkt, odcinek lub trapez, zależnie od typu węzła\n",
    "        left: Lewy potomek\n",
    "        right: Prawy potomek\n",
    "        \"\"\"\n",
    "        self.node_type = node_type  # Typ węzła: 'x', 'y', 'leaf'\n",
    "        self.label = label          # Punkt, odcinek lub trapez\n",
    "        self.left = left            # Lewy potomek\n",
    "        self.right = right          # Prawy potomek\n",
    "\n",
    "    \n",
    "class DTree:\n",
    "    def __init__(self):\n",
    "        self.root = None\n",
    "\n",
    "    def query(self, point,a=None):\n",
    "        \"\"\"\n",
    "        Znajduje trapez, który zawiera dany punkt.\n",
    "        point: (x, y) - współrzędne punktu\n",
    "        Zwraca: Trapez (etykieta liścia), który zawiera punkt\n",
    "        \"\"\"\n",
    "        current = self.root\n",
    "        while current:\n",
    "            if current.node_type == 'x':\n",
    "                # Testujemy po współrzędnej x\n",
    "                if point.x < current.label.x:\n",
    "                    current = current.left                    \n",
    "                else:\n",
    "                    current = current.right\n",
    "\n",
    "            elif current.node_type == 'y':\n",
    "                # Testujemy położenie względem odcinka\n",
    "                segment = current.label\n",
    "                y_on_line = segment.get_y(point.x)\n",
    "                if point.y > y_on_line:\n",
    "                    current = current.left\n",
    "                elif point.y==y_on_line and a is not None:   # potrzebne do wyznaczania strefy dla s_i, jeżeli początek dodawanego odcinka leży na sprawdzanej linii\n",
    "                    # nie wiem czy to rozwiazuje problem  \n",
    "                    if segment.a>a:\n",
    "                        current = current.right\n",
    "                    else:\n",
    "                        current = current.left\n",
    "                else:\n",
    "                    current = current.right\n",
    "\n",
    "            elif current.node_type == 'leaf':\n",
    "                # Znaleziony trapez\n",
    "                return current.label\n",
    "\n",
    "        return None\n",
    "\n",
    "# Na wykładzie są podane dwa rodzaje tej struktury - musimy wytłumaczyć dlaczego akurat tą wybierami?"
   ]
  },
  {
   "cell_type": "code",
   "execution_count": 32,
   "metadata": {
    "ExecuteTime": {
     "end_time": "2024-12-27T23:19:49.935208Z",
     "start_time": "2024-12-27T23:19:49.910801Z"
    }
   },
   "outputs": [
    {
     "name": "stdout",
     "output_type": "stream",
     "text": [
      "Trapez zawierający punkt: 1 5\n"
     ]
    }
   ],
   "source": [
    "# Testy struktury DTree\n",
    "if __name__ == \"__main__\":\n",
    "    # Tworzenie przykładowych danych\n",
    "    p1 = Point(1, 1)\n",
    "    p2 = Point(5, 5)\n",
    "    p3 = Point(3, 2)\n",
    "    segment = Segment(p1, p2)\n",
    "\n",
    "    trapez1 = Trapezoid(None, None, p1, p2)\n",
    "    trapez2 = Trapezoid(None, None, p2, p3)\n",
    "\n",
    "    leaf1 = DNode('leaf', trapez1)\n",
    "    leaf2 = DNode('leaf', trapez2)\n",
    "    x_node = DNode('x', p2, leaf1, leaf2)\n",
    "\n",
    "    # Tworzenie drzewa\n",
    "    dtree = DTree()\n",
    "    dtree.root = x_node\n",
    "\n",
    "    # Test punktu\n",
    "    test_point = Point(4, 4)\n",
    "    result = dtree.query(test_point)\n",
    "    print(\"Trapez zawierający punkt:\", result.leftp.x, result.rightp.x)"
   ]
  },
  {
   "cell_type": "markdown",
   "metadata": {},
   "source": [
    "## Aplikacja do zadawania odcinków\n",
    "\n",
    "Aby wprowadzić odcinek należy nacisnąć lewym przyciskiem myszy w punkcie początkowym, przeciągnąć kursor i zwolnić przycisk w punkcie końcowym.\n",
    "Po wprowadzeniu wszystkich odcinków wystarczy zamknąć okno."
   ]
  },
  {
   "cell_type": "code",
   "execution_count": 37,
   "metadata": {},
   "outputs": [
    {
     "name": "stdout",
     "output_type": "stream",
     "text": [
      "Warning: Cannot change to a different GUI toolkit: nbagg. Using tk instead.\n"
     ]
    }
   ],
   "source": [
    "%matplotlib tk\n",
    "\n",
    "import matplotlib.pyplot as plt\n",
    "\n",
    "class LineDrawer:\n",
    "    def __init__(self):\n",
    "        self.fig, self.ax = plt.subplots()\n",
    "        self.lines = []\n",
    "        self.current_line = None\n",
    "        self.start_point = None\n",
    "\n",
    "        # stałe wymiary okna (można zmienić)\n",
    "        self.ax.set_xlim(0, 10)\n",
    "        self.ax.set_ylim(0, 10)\n",
    "\n",
    "        self.cid_click = self.fig.canvas.mpl_connect('button_press_event', self.on_click)\n",
    "        self.cid_motion = self.fig.canvas.mpl_connect('motion_notify_event', self.on_motion)\n",
    "        self.cid_release = self.fig.canvas.mpl_connect('button_release_event', self.on_release)\n",
    "\n",
    "    def on_click(self, event):\n",
    "        if event.inaxes != self.ax:\n",
    "            return\n",
    "        self.start_point = (event.xdata, event.ydata)\n",
    "        self.ax.plot(event.xdata, event.ydata, 'ko') \n",
    "        self.current_line = self.ax.plot([event.xdata, event.xdata], [event.ydata, event.ydata], 'k-')[0]\n",
    "\n",
    "    def on_motion(self, event):\n",
    "        if self.current_line is None or event.inaxes != self.ax:\n",
    "            return\n",
    "        xdata, ydata = self.current_line.get_data()\n",
    "        xdata[1], ydata[1] = event.xdata, event.ydata\n",
    "        self.current_line.set_data(xdata, ydata)\n",
    "        self.fig.canvas.draw()\n",
    "\n",
    "    def on_release(self, event):\n",
    "        if self.current_line is None or event.inaxes != self.ax:\n",
    "            return\n",
    "        self.lines.append((self.start_point, (event.xdata, event.ydata)))\n",
    "        self.ax.plot(event.xdata, event.ydata, 'ko') \n",
    "        self.current_line = None\n",
    "        self.start_point = None\n",
    "        self.fig.canvas.draw()\n",
    "\n",
    "    def show(self):\n",
    "        plt.show()\n",
    "\n",
    "    def get_lines(self):\n",
    "        return self.lines\n",
    "\n",
    "drawer = LineDrawer()\n",
    "drawer.show()\n",
    "lines=drawer.get_lines()\n"
   ]
  },
  {
   "cell_type": "code",
   "execution_count": 38,
   "metadata": {},
   "outputs": [
    {
     "name": "stdout",
     "output_type": "stream",
     "text": [
      "[((np.float64(1.8548387096774195), np.float64(7.7272727272727275)), (np.float64(6.629032258064516), np.float64(8.54978354978355))), ((np.float64(4.532258064516128), np.float64(3.7445887445887447)), (np.float64(8.516129032258064), np.float64(0.9740259740259745))), ((np.float64(1.1451612903225805), np.float64(2.0346320346320352)), (np.float64(4.032258064516128), np.float64(5.670995670995671)))]\n"
     ]
    }
   ],
   "source": [
    "print(lines)"
   ]
  },
  {
   "cell_type": "code",
   "execution_count": 39,
   "metadata": {},
   "outputs": [],
   "source": [
    "# zamiana reprezentacji odcinków\n",
    "for i in range(len(lines)):\n",
    "    p=Point(lines[i][0][0],lines[i][0][1])\n",
    "    q=Point(lines[i][1][0],lines[i][1][1])\n",
    "    segment=Segment(p,q)\n",
    "    lines[i]=segment"
   ]
  },
  {
   "cell_type": "markdown",
   "metadata": {},
   "source": [
    "## Konstrukcja mapy trapezowej T(S)"
   ]
  },
  {
   "cell_type": "markdown",
   "metadata": {},
   "source": [
    "wyznaczanie strefy dla $s_i$"
   ]
  },
  {
   "cell_type": "code",
   "execution_count": 36,
   "metadata": {},
   "outputs": [],
   "source": [
    "def find_area_to_delete(D,segment):\n",
    "    area=set()\n",
    "    p=segment.left\n",
    "    q=segment.right\n",
    "    delta=D.query(p)\n",
    "    area.add(delta)\n",
    "    while q.x>delta.rightp.x:\n",
    "        if delta.rightp.y>segment.get_y(delta.rightp.x):\n",
    "            area.add(delta.lower_right)\n",
    "            delta=delta.lower_right\n",
    "        else:\n",
    "            area.add(delta.upper_right)\n",
    "            delta=delta.upper_right\n",
    "    return area\n",
    "        \n",
    "\n"
   ]
  },
  {
   "cell_type": "code",
   "execution_count": null,
   "metadata": {},
   "outputs": [],
   "source": []
  }
 ],
 "metadata": {
  "kernelspec": {
   "display_name": "Python 3",
   "language": "python",
   "name": "python3"
  },
  "language_info": {
   "codemirror_mode": {
    "name": "ipython",
    "version": 3
   },
   "file_extension": ".py",
   "mimetype": "text/x-python",
   "name": "python",
   "nbconvert_exporter": "python",
   "pygments_lexer": "ipython3",
   "version": "3.13.1"
  }
 },
 "nbformat": 4,
 "nbformat_minor": 2
}
